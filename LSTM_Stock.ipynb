{
  "nbformat": 4,
  "nbformat_minor": 0,
  "metadata": {
    "colab": {
      "name": "LSTM_Stock.ipynb",
      "provenance": [],
      "collapsed_sections": []
    },
    "kernelspec": {
      "name": "python3",
      "display_name": "Python 3"
    },
    "accelerator": "GPU"
  },
  "cells": [
    {
      "cell_type": "code",
      "metadata": {
        "id": "PXZswpDgOxHJ",
        "colab_type": "code",
        "colab": {}
      },
      "source": [
        "import pandas as pd"
      ],
      "execution_count": 4,
      "outputs": []
    },
    {
      "cell_type": "code",
      "metadata": {
        "id": "AZRk09sGlzDc",
        "colab_type": "code",
        "colab": {}
      },
      "source": [
        "import numpy as np"
      ],
      "execution_count": 5,
      "outputs": []
    },
    {
      "cell_type": "code",
      "metadata": {
        "id": "qvsoytMzO9Pz",
        "colab_type": "code",
        "colab": {}
      },
      "source": [
        "df = pd.read_csv('/content/NSE-ONGC.csv')"
      ],
      "execution_count": 45,
      "outputs": []
    },
    {
      "cell_type": "code",
      "metadata": {
        "id": "Jh_ytwt5PTiB",
        "colab_type": "code",
        "colab": {
          "base_uri": "https://localhost:8080/",
          "height": 424
        },
        "outputId": "4a13b45d-cd1c-453b-81ac-a232ea1e54b3"
      },
      "source": [
        "df"
      ],
      "execution_count": 46,
      "outputs": [
        {
          "output_type": "execute_result",
          "data": {
            "text/html": [
              "<div>\n",
              "<style scoped>\n",
              "    .dataframe tbody tr th:only-of-type {\n",
              "        vertical-align: middle;\n",
              "    }\n",
              "\n",
              "    .dataframe tbody tr th {\n",
              "        vertical-align: top;\n",
              "    }\n",
              "\n",
              "    .dataframe thead th {\n",
              "        text-align: right;\n",
              "    }\n",
              "</style>\n",
              "<table border=\"1\" class=\"dataframe\">\n",
              "  <thead>\n",
              "    <tr style=\"text-align: right;\">\n",
              "      <th></th>\n",
              "      <th>Date</th>\n",
              "      <th>Open</th>\n",
              "      <th>High</th>\n",
              "      <th>Low</th>\n",
              "      <th>Last</th>\n",
              "      <th>Close</th>\n",
              "      <th>Total Trade Quantity</th>\n",
              "      <th>Turnover (Lacs)</th>\n",
              "    </tr>\n",
              "  </thead>\n",
              "  <tbody>\n",
              "    <tr>\n",
              "      <th>0</th>\n",
              "      <td>2019-01-04</td>\n",
              "      <td>142.05</td>\n",
              "      <td>146.20</td>\n",
              "      <td>142.05</td>\n",
              "      <td>146.05</td>\n",
              "      <td>145.70</td>\n",
              "      <td>7395898.0</td>\n",
              "      <td>10721.36</td>\n",
              "    </tr>\n",
              "    <tr>\n",
              "      <th>1</th>\n",
              "      <td>2019-01-03</td>\n",
              "      <td>145.00</td>\n",
              "      <td>145.65</td>\n",
              "      <td>141.60</td>\n",
              "      <td>142.00</td>\n",
              "      <td>142.40</td>\n",
              "      <td>26599483.0</td>\n",
              "      <td>38110.57</td>\n",
              "    </tr>\n",
              "    <tr>\n",
              "      <th>2</th>\n",
              "      <td>2019-01-02</td>\n",
              "      <td>148.00</td>\n",
              "      <td>148.35</td>\n",
              "      <td>145.75</td>\n",
              "      <td>146.85</td>\n",
              "      <td>147.05</td>\n",
              "      <td>17436694.0</td>\n",
              "      <td>25629.13</td>\n",
              "    </tr>\n",
              "    <tr>\n",
              "      <th>3</th>\n",
              "      <td>2019-01-01</td>\n",
              "      <td>150.00</td>\n",
              "      <td>150.10</td>\n",
              "      <td>148.00</td>\n",
              "      <td>148.25</td>\n",
              "      <td>148.50</td>\n",
              "      <td>4496586.0</td>\n",
              "      <td>6697.98</td>\n",
              "    </tr>\n",
              "    <tr>\n",
              "      <th>4</th>\n",
              "      <td>2018-12-31</td>\n",
              "      <td>150.15</td>\n",
              "      <td>150.80</td>\n",
              "      <td>149.10</td>\n",
              "      <td>149.80</td>\n",
              "      <td>149.90</td>\n",
              "      <td>5778308.0</td>\n",
              "      <td>8663.18</td>\n",
              "    </tr>\n",
              "    <tr>\n",
              "      <th>...</th>\n",
              "      <td>...</td>\n",
              "      <td>...</td>\n",
              "      <td>...</td>\n",
              "      <td>...</td>\n",
              "      <td>...</td>\n",
              "      <td>...</td>\n",
              "      <td>...</td>\n",
              "      <td>...</td>\n",
              "    </tr>\n",
              "    <tr>\n",
              "      <th>5177</th>\n",
              "      <td>1998-03-27</td>\n",
              "      <td>268.95</td>\n",
              "      <td>275.50</td>\n",
              "      <td>268.95</td>\n",
              "      <td>274.90</td>\n",
              "      <td>274.70</td>\n",
              "      <td>5900.0</td>\n",
              "      <td>16.12</td>\n",
              "    </tr>\n",
              "    <tr>\n",
              "      <th>5178</th>\n",
              "      <td>1998-03-26</td>\n",
              "      <td>290.00</td>\n",
              "      <td>290.00</td>\n",
              "      <td>268.75</td>\n",
              "      <td>272.00</td>\n",
              "      <td>272.65</td>\n",
              "      <td>18700.0</td>\n",
              "      <td>52.13</td>\n",
              "    </tr>\n",
              "    <tr>\n",
              "      <th>5179</th>\n",
              "      <td>1998-03-25</td>\n",
              "      <td>255.00</td>\n",
              "      <td>275.25</td>\n",
              "      <td>255.00</td>\n",
              "      <td>275.25</td>\n",
              "      <td>275.25</td>\n",
              "      <td>20400.0</td>\n",
              "      <td>54.75</td>\n",
              "    </tr>\n",
              "    <tr>\n",
              "      <th>5180</th>\n",
              "      <td>1998-03-24</td>\n",
              "      <td>247.95</td>\n",
              "      <td>256.50</td>\n",
              "      <td>241.90</td>\n",
              "      <td>250.25</td>\n",
              "      <td>250.20</td>\n",
              "      <td>15800.0</td>\n",
              "      <td>39.26</td>\n",
              "    </tr>\n",
              "    <tr>\n",
              "      <th>5181</th>\n",
              "      <td>1998-03-20</td>\n",
              "      <td>245.65</td>\n",
              "      <td>245.65</td>\n",
              "      <td>240.10</td>\n",
              "      <td>NaN</td>\n",
              "      <td>NaN</td>\n",
              "      <td>NaN</td>\n",
              "      <td>NaN</td>\n",
              "    </tr>\n",
              "  </tbody>\n",
              "</table>\n",
              "<p>5182 rows × 8 columns</p>\n",
              "</div>"
            ],
            "text/plain": [
              "            Date    Open    High  ...   Close  Total Trade Quantity  Turnover (Lacs)\n",
              "0     2019-01-04  142.05  146.20  ...  145.70             7395898.0         10721.36\n",
              "1     2019-01-03  145.00  145.65  ...  142.40            26599483.0         38110.57\n",
              "2     2019-01-02  148.00  148.35  ...  147.05            17436694.0         25629.13\n",
              "3     2019-01-01  150.00  150.10  ...  148.50             4496586.0          6697.98\n",
              "4     2018-12-31  150.15  150.80  ...  149.90             5778308.0          8663.18\n",
              "...          ...     ...     ...  ...     ...                   ...              ...\n",
              "5177  1998-03-27  268.95  275.50  ...  274.70                5900.0            16.12\n",
              "5178  1998-03-26  290.00  290.00  ...  272.65               18700.0            52.13\n",
              "5179  1998-03-25  255.00  275.25  ...  275.25               20400.0            54.75\n",
              "5180  1998-03-24  247.95  256.50  ...  250.20               15800.0            39.26\n",
              "5181  1998-03-20  245.65  245.65  ...     NaN                   NaN              NaN\n",
              "\n",
              "[5182 rows x 8 columns]"
            ]
          },
          "metadata": {
            "tags": []
          },
          "execution_count": 46
        }
      ]
    },
    {
      "cell_type": "code",
      "metadata": {
        "id": "8usXOaD0PYBk",
        "colab_type": "code",
        "colab": {
          "base_uri": "https://localhost:8080/",
          "height": 181
        },
        "outputId": "7cc05170-7759-4aac-be50-6834d40ecc25"
      },
      "source": [
        "df.isna().any()\n"
      ],
      "execution_count": 47,
      "outputs": [
        {
          "output_type": "execute_result",
          "data": {
            "text/plain": [
              "Date                    False\n",
              "Open                    False\n",
              "High                    False\n",
              "Low                     False\n",
              "Last                     True\n",
              "Close                    True\n",
              "Total Trade Quantity     True\n",
              "Turnover (Lacs)          True\n",
              "dtype: bool"
            ]
          },
          "metadata": {
            "tags": []
          },
          "execution_count": 47
        }
      ]
    },
    {
      "cell_type": "code",
      "metadata": {
        "id": "4F9SLsWlPc0g",
        "colab_type": "code",
        "colab": {}
      },
      "source": [
        "df.drop([5181], axis = 0,  inplace=True)"
      ],
      "execution_count": 48,
      "outputs": []
    },
    {
      "cell_type": "code",
      "metadata": {
        "id": "c09OCS66QIna",
        "colab_type": "code",
        "colab": {
          "base_uri": "https://localhost:8080/",
          "height": 424
        },
        "outputId": "c6cc16d0-510d-48bb-e396-8c781935ee6e"
      },
      "source": [
        "df"
      ],
      "execution_count": 49,
      "outputs": [
        {
          "output_type": "execute_result",
          "data": {
            "text/html": [
              "<div>\n",
              "<style scoped>\n",
              "    .dataframe tbody tr th:only-of-type {\n",
              "        vertical-align: middle;\n",
              "    }\n",
              "\n",
              "    .dataframe tbody tr th {\n",
              "        vertical-align: top;\n",
              "    }\n",
              "\n",
              "    .dataframe thead th {\n",
              "        text-align: right;\n",
              "    }\n",
              "</style>\n",
              "<table border=\"1\" class=\"dataframe\">\n",
              "  <thead>\n",
              "    <tr style=\"text-align: right;\">\n",
              "      <th></th>\n",
              "      <th>Date</th>\n",
              "      <th>Open</th>\n",
              "      <th>High</th>\n",
              "      <th>Low</th>\n",
              "      <th>Last</th>\n",
              "      <th>Close</th>\n",
              "      <th>Total Trade Quantity</th>\n",
              "      <th>Turnover (Lacs)</th>\n",
              "    </tr>\n",
              "  </thead>\n",
              "  <tbody>\n",
              "    <tr>\n",
              "      <th>0</th>\n",
              "      <td>2019-01-04</td>\n",
              "      <td>142.05</td>\n",
              "      <td>146.20</td>\n",
              "      <td>142.05</td>\n",
              "      <td>146.05</td>\n",
              "      <td>145.70</td>\n",
              "      <td>7395898.0</td>\n",
              "      <td>10721.36</td>\n",
              "    </tr>\n",
              "    <tr>\n",
              "      <th>1</th>\n",
              "      <td>2019-01-03</td>\n",
              "      <td>145.00</td>\n",
              "      <td>145.65</td>\n",
              "      <td>141.60</td>\n",
              "      <td>142.00</td>\n",
              "      <td>142.40</td>\n",
              "      <td>26599483.0</td>\n",
              "      <td>38110.57</td>\n",
              "    </tr>\n",
              "    <tr>\n",
              "      <th>2</th>\n",
              "      <td>2019-01-02</td>\n",
              "      <td>148.00</td>\n",
              "      <td>148.35</td>\n",
              "      <td>145.75</td>\n",
              "      <td>146.85</td>\n",
              "      <td>147.05</td>\n",
              "      <td>17436694.0</td>\n",
              "      <td>25629.13</td>\n",
              "    </tr>\n",
              "    <tr>\n",
              "      <th>3</th>\n",
              "      <td>2019-01-01</td>\n",
              "      <td>150.00</td>\n",
              "      <td>150.10</td>\n",
              "      <td>148.00</td>\n",
              "      <td>148.25</td>\n",
              "      <td>148.50</td>\n",
              "      <td>4496586.0</td>\n",
              "      <td>6697.98</td>\n",
              "    </tr>\n",
              "    <tr>\n",
              "      <th>4</th>\n",
              "      <td>2018-12-31</td>\n",
              "      <td>150.15</td>\n",
              "      <td>150.80</td>\n",
              "      <td>149.10</td>\n",
              "      <td>149.80</td>\n",
              "      <td>149.90</td>\n",
              "      <td>5778308.0</td>\n",
              "      <td>8663.18</td>\n",
              "    </tr>\n",
              "    <tr>\n",
              "      <th>...</th>\n",
              "      <td>...</td>\n",
              "      <td>...</td>\n",
              "      <td>...</td>\n",
              "      <td>...</td>\n",
              "      <td>...</td>\n",
              "      <td>...</td>\n",
              "      <td>...</td>\n",
              "      <td>...</td>\n",
              "    </tr>\n",
              "    <tr>\n",
              "      <th>5176</th>\n",
              "      <td>1998-03-30</td>\n",
              "      <td>277.00</td>\n",
              "      <td>281.95</td>\n",
              "      <td>265.00</td>\n",
              "      <td>265.00</td>\n",
              "      <td>266.45</td>\n",
              "      <td>8400.0</td>\n",
              "      <td>22.87</td>\n",
              "    </tr>\n",
              "    <tr>\n",
              "      <th>5177</th>\n",
              "      <td>1998-03-27</td>\n",
              "      <td>268.95</td>\n",
              "      <td>275.50</td>\n",
              "      <td>268.95</td>\n",
              "      <td>274.90</td>\n",
              "      <td>274.70</td>\n",
              "      <td>5900.0</td>\n",
              "      <td>16.12</td>\n",
              "    </tr>\n",
              "    <tr>\n",
              "      <th>5178</th>\n",
              "      <td>1998-03-26</td>\n",
              "      <td>290.00</td>\n",
              "      <td>290.00</td>\n",
              "      <td>268.75</td>\n",
              "      <td>272.00</td>\n",
              "      <td>272.65</td>\n",
              "      <td>18700.0</td>\n",
              "      <td>52.13</td>\n",
              "    </tr>\n",
              "    <tr>\n",
              "      <th>5179</th>\n",
              "      <td>1998-03-25</td>\n",
              "      <td>255.00</td>\n",
              "      <td>275.25</td>\n",
              "      <td>255.00</td>\n",
              "      <td>275.25</td>\n",
              "      <td>275.25</td>\n",
              "      <td>20400.0</td>\n",
              "      <td>54.75</td>\n",
              "    </tr>\n",
              "    <tr>\n",
              "      <th>5180</th>\n",
              "      <td>1998-03-24</td>\n",
              "      <td>247.95</td>\n",
              "      <td>256.50</td>\n",
              "      <td>241.90</td>\n",
              "      <td>250.25</td>\n",
              "      <td>250.20</td>\n",
              "      <td>15800.0</td>\n",
              "      <td>39.26</td>\n",
              "    </tr>\n",
              "  </tbody>\n",
              "</table>\n",
              "<p>5181 rows × 8 columns</p>\n",
              "</div>"
            ],
            "text/plain": [
              "            Date    Open    High  ...   Close  Total Trade Quantity  Turnover (Lacs)\n",
              "0     2019-01-04  142.05  146.20  ...  145.70             7395898.0         10721.36\n",
              "1     2019-01-03  145.00  145.65  ...  142.40            26599483.0         38110.57\n",
              "2     2019-01-02  148.00  148.35  ...  147.05            17436694.0         25629.13\n",
              "3     2019-01-01  150.00  150.10  ...  148.50             4496586.0          6697.98\n",
              "4     2018-12-31  150.15  150.80  ...  149.90             5778308.0          8663.18\n",
              "...          ...     ...     ...  ...     ...                   ...              ...\n",
              "5176  1998-03-30  277.00  281.95  ...  266.45                8400.0            22.87\n",
              "5177  1998-03-27  268.95  275.50  ...  274.70                5900.0            16.12\n",
              "5178  1998-03-26  290.00  290.00  ...  272.65               18700.0            52.13\n",
              "5179  1998-03-25  255.00  275.25  ...  275.25               20400.0            54.75\n",
              "5180  1998-03-24  247.95  256.50  ...  250.20               15800.0            39.26\n",
              "\n",
              "[5181 rows x 8 columns]"
            ]
          },
          "metadata": {
            "tags": []
          },
          "execution_count": 49
        }
      ]
    },
    {
      "cell_type": "code",
      "metadata": {
        "id": "7VpUZemTQJwO",
        "colab_type": "code",
        "colab": {
          "base_uri": "https://localhost:8080/",
          "height": 269
        },
        "outputId": "c2af6924-50e7-47dd-f270-82a139b4ba78"
      },
      "source": [
        "df.corr()"
      ],
      "execution_count": 50,
      "outputs": [
        {
          "output_type": "execute_result",
          "data": {
            "text/html": [
              "<div>\n",
              "<style scoped>\n",
              "    .dataframe tbody tr th:only-of-type {\n",
              "        vertical-align: middle;\n",
              "    }\n",
              "\n",
              "    .dataframe tbody tr th {\n",
              "        vertical-align: top;\n",
              "    }\n",
              "\n",
              "    .dataframe thead th {\n",
              "        text-align: right;\n",
              "    }\n",
              "</style>\n",
              "<table border=\"1\" class=\"dataframe\">\n",
              "  <thead>\n",
              "    <tr style=\"text-align: right;\">\n",
              "      <th></th>\n",
              "      <th>Open</th>\n",
              "      <th>High</th>\n",
              "      <th>Low</th>\n",
              "      <th>Last</th>\n",
              "      <th>Close</th>\n",
              "      <th>Total Trade Quantity</th>\n",
              "      <th>Turnover (Lacs)</th>\n",
              "    </tr>\n",
              "  </thead>\n",
              "  <tbody>\n",
              "    <tr>\n",
              "      <th>Open</th>\n",
              "      <td>1.000000</td>\n",
              "      <td>0.999564</td>\n",
              "      <td>0.999380</td>\n",
              "      <td>0.999183</td>\n",
              "      <td>0.999216</td>\n",
              "      <td>-0.215056</td>\n",
              "      <td>0.329236</td>\n",
              "    </tr>\n",
              "    <tr>\n",
              "      <th>High</th>\n",
              "      <td>0.999564</td>\n",
              "      <td>1.000000</td>\n",
              "      <td>0.999211</td>\n",
              "      <td>0.999610</td>\n",
              "      <td>0.999637</td>\n",
              "      <td>-0.213159</td>\n",
              "      <td>0.334957</td>\n",
              "    </tr>\n",
              "    <tr>\n",
              "      <th>Low</th>\n",
              "      <td>0.999380</td>\n",
              "      <td>0.999211</td>\n",
              "      <td>1.000000</td>\n",
              "      <td>0.999533</td>\n",
              "      <td>0.999562</td>\n",
              "      <td>-0.216568</td>\n",
              "      <td>0.324423</td>\n",
              "    </tr>\n",
              "    <tr>\n",
              "      <th>Last</th>\n",
              "      <td>0.999183</td>\n",
              "      <td>0.999610</td>\n",
              "      <td>0.999533</td>\n",
              "      <td>1.000000</td>\n",
              "      <td>0.999972</td>\n",
              "      <td>-0.214801</td>\n",
              "      <td>0.329990</td>\n",
              "    </tr>\n",
              "    <tr>\n",
              "      <th>Close</th>\n",
              "      <td>0.999216</td>\n",
              "      <td>0.999637</td>\n",
              "      <td>0.999562</td>\n",
              "      <td>0.999972</td>\n",
              "      <td>1.000000</td>\n",
              "      <td>-0.214743</td>\n",
              "      <td>0.329936</td>\n",
              "    </tr>\n",
              "    <tr>\n",
              "      <th>Total Trade Quantity</th>\n",
              "      <td>-0.215056</td>\n",
              "      <td>-0.213159</td>\n",
              "      <td>-0.216568</td>\n",
              "      <td>-0.214801</td>\n",
              "      <td>-0.214743</td>\n",
              "      <td>1.000000</td>\n",
              "      <td>0.632273</td>\n",
              "    </tr>\n",
              "    <tr>\n",
              "      <th>Turnover (Lacs)</th>\n",
              "      <td>0.329236</td>\n",
              "      <td>0.334957</td>\n",
              "      <td>0.324423</td>\n",
              "      <td>0.329990</td>\n",
              "      <td>0.329936</td>\n",
              "      <td>0.632273</td>\n",
              "      <td>1.000000</td>\n",
              "    </tr>\n",
              "  </tbody>\n",
              "</table>\n",
              "</div>"
            ],
            "text/plain": [
              "                          Open      High  ...  Total Trade Quantity  Turnover (Lacs)\n",
              "Open                  1.000000  0.999564  ...             -0.215056         0.329236\n",
              "High                  0.999564  1.000000  ...             -0.213159         0.334957\n",
              "Low                   0.999380  0.999211  ...             -0.216568         0.324423\n",
              "Last                  0.999183  0.999610  ...             -0.214801         0.329990\n",
              "Close                 0.999216  0.999637  ...             -0.214743         0.329936\n",
              "Total Trade Quantity -0.215056 -0.213159  ...              1.000000         0.632273\n",
              "Turnover (Lacs)       0.329236  0.334957  ...              0.632273         1.000000\n",
              "\n",
              "[7 rows x 7 columns]"
            ]
          },
          "metadata": {
            "tags": []
          },
          "execution_count": 50
        }
      ]
    },
    {
      "cell_type": "code",
      "metadata": {
        "id": "cm5JOqFzQPPW",
        "colab_type": "code",
        "colab": {
          "base_uri": "https://localhost:8080/",
          "height": 181
        },
        "outputId": "ecf36db0-9ade-4eef-8edd-4abf3b036ef0"
      },
      "source": [
        "df.isna().any()"
      ],
      "execution_count": 51,
      "outputs": [
        {
          "output_type": "execute_result",
          "data": {
            "text/plain": [
              "Date                    False\n",
              "Open                    False\n",
              "High                    False\n",
              "Low                     False\n",
              "Last                    False\n",
              "Close                   False\n",
              "Total Trade Quantity    False\n",
              "Turnover (Lacs)         False\n",
              "dtype: bool"
            ]
          },
          "metadata": {
            "tags": []
          },
          "execution_count": 51
        }
      ]
    },
    {
      "cell_type": "code",
      "metadata": {
        "id": "A9AK9ckxQ6Eb",
        "colab_type": "code",
        "colab": {
          "base_uri": "https://localhost:8080/",
          "height": 181
        },
        "outputId": "08e0ea16-594f-43aa-ce1f-4148817efde2"
      },
      "source": [
        "df.isna().sum()"
      ],
      "execution_count": 52,
      "outputs": [
        {
          "output_type": "execute_result",
          "data": {
            "text/plain": [
              "Date                    0\n",
              "Open                    0\n",
              "High                    0\n",
              "Low                     0\n",
              "Last                    0\n",
              "Close                   0\n",
              "Total Trade Quantity    0\n",
              "Turnover (Lacs)         0\n",
              "dtype: int64"
            ]
          },
          "metadata": {
            "tags": []
          },
          "execution_count": 52
        }
      ]
    },
    {
      "cell_type": "code",
      "metadata": {
        "id": "2jPFH1W3Q9-f",
        "colab_type": "code",
        "colab": {}
      },
      "source": [
        "from sklearn.preprocessing import MinMaxScaler\n",
        "from keras.models import Sequential\n",
        "from keras.layers import Dense\n",
        "from keras.layers import Dropout \n",
        "from keras.layers import LSTM\n",
        "from sklearn.metrics import r2_score\n",
        "import matplotlib.pyplot as plt\n",
        "\n"
      ],
      "execution_count": 53,
      "outputs": []
    },
    {
      "cell_type": "code",
      "metadata": {
        "id": "6dxk5yJ-hFhf",
        "colab_type": "code",
        "colab": {}
      },
      "source": [
        "data = df.sort_index(ascending=True, axis=0)\n",
        "new_data = pd.DataFrame(index=range(0,len(df)),columns=['Date','Open','Close'])\n",
        "for i in range(0,len(data)):\n",
        "    new_data['Date'][i] = data['Date'][i]\n",
        "    new_data['Open'][i] = data['Open'][i]\n",
        "    new_data['Close'][i] = data['Close'][i]"
      ],
      "execution_count": 54,
      "outputs": []
    },
    {
      "cell_type": "code",
      "metadata": {
        "id": "tOI5zVqVkGZN",
        "colab_type": "code",
        "colab": {
          "base_uri": "https://localhost:8080/",
          "height": 424
        },
        "outputId": "1264313d-38fa-4351-cef9-dc2038a964c6"
      },
      "source": [
        "new_data"
      ],
      "execution_count": 55,
      "outputs": [
        {
          "output_type": "execute_result",
          "data": {
            "text/html": [
              "<div>\n",
              "<style scoped>\n",
              "    .dataframe tbody tr th:only-of-type {\n",
              "        vertical-align: middle;\n",
              "    }\n",
              "\n",
              "    .dataframe tbody tr th {\n",
              "        vertical-align: top;\n",
              "    }\n",
              "\n",
              "    .dataframe thead th {\n",
              "        text-align: right;\n",
              "    }\n",
              "</style>\n",
              "<table border=\"1\" class=\"dataframe\">\n",
              "  <thead>\n",
              "    <tr style=\"text-align: right;\">\n",
              "      <th></th>\n",
              "      <th>Date</th>\n",
              "      <th>Open</th>\n",
              "      <th>Close</th>\n",
              "    </tr>\n",
              "  </thead>\n",
              "  <tbody>\n",
              "    <tr>\n",
              "      <th>0</th>\n",
              "      <td>2019-01-04</td>\n",
              "      <td>142.05</td>\n",
              "      <td>145.7</td>\n",
              "    </tr>\n",
              "    <tr>\n",
              "      <th>1</th>\n",
              "      <td>2019-01-03</td>\n",
              "      <td>145</td>\n",
              "      <td>142.4</td>\n",
              "    </tr>\n",
              "    <tr>\n",
              "      <th>2</th>\n",
              "      <td>2019-01-02</td>\n",
              "      <td>148</td>\n",
              "      <td>147.05</td>\n",
              "    </tr>\n",
              "    <tr>\n",
              "      <th>3</th>\n",
              "      <td>2019-01-01</td>\n",
              "      <td>150</td>\n",
              "      <td>148.5</td>\n",
              "    </tr>\n",
              "    <tr>\n",
              "      <th>4</th>\n",
              "      <td>2018-12-31</td>\n",
              "      <td>150.15</td>\n",
              "      <td>149.9</td>\n",
              "    </tr>\n",
              "    <tr>\n",
              "      <th>...</th>\n",
              "      <td>...</td>\n",
              "      <td>...</td>\n",
              "      <td>...</td>\n",
              "    </tr>\n",
              "    <tr>\n",
              "      <th>5176</th>\n",
              "      <td>1998-03-30</td>\n",
              "      <td>277</td>\n",
              "      <td>266.45</td>\n",
              "    </tr>\n",
              "    <tr>\n",
              "      <th>5177</th>\n",
              "      <td>1998-03-27</td>\n",
              "      <td>268.95</td>\n",
              "      <td>274.7</td>\n",
              "    </tr>\n",
              "    <tr>\n",
              "      <th>5178</th>\n",
              "      <td>1998-03-26</td>\n",
              "      <td>290</td>\n",
              "      <td>272.65</td>\n",
              "    </tr>\n",
              "    <tr>\n",
              "      <th>5179</th>\n",
              "      <td>1998-03-25</td>\n",
              "      <td>255</td>\n",
              "      <td>275.25</td>\n",
              "    </tr>\n",
              "    <tr>\n",
              "      <th>5180</th>\n",
              "      <td>1998-03-24</td>\n",
              "      <td>247.95</td>\n",
              "      <td>250.2</td>\n",
              "    </tr>\n",
              "  </tbody>\n",
              "</table>\n",
              "<p>5181 rows × 3 columns</p>\n",
              "</div>"
            ],
            "text/plain": [
              "            Date    Open   Close\n",
              "0     2019-01-04  142.05   145.7\n",
              "1     2019-01-03     145   142.4\n",
              "2     2019-01-02     148  147.05\n",
              "3     2019-01-01     150   148.5\n",
              "4     2018-12-31  150.15   149.9\n",
              "...          ...     ...     ...\n",
              "5176  1998-03-30     277  266.45\n",
              "5177  1998-03-27  268.95   274.7\n",
              "5178  1998-03-26     290  272.65\n",
              "5179  1998-03-25     255  275.25\n",
              "5180  1998-03-24  247.95   250.2\n",
              "\n",
              "[5181 rows x 3 columns]"
            ]
          },
          "metadata": {
            "tags": []
          },
          "execution_count": 55
        }
      ]
    },
    {
      "cell_type": "code",
      "metadata": {
        "id": "dYye3awH7SlU",
        "colab_type": "code",
        "colab": {}
      },
      "source": [
        "Date = df[\"Date\"]"
      ],
      "execution_count": 56,
      "outputs": []
    },
    {
      "cell_type": "code",
      "metadata": {
        "id": "0Q_yOY1IkLQ_",
        "colab_type": "code",
        "colab": {}
      },
      "source": [
        "new_data.index = new_data.Date\n",
        "new_data.drop('Date', axis=1, inplace=True)"
      ],
      "execution_count": 57,
      "outputs": []
    },
    {
      "cell_type": "code",
      "metadata": {
        "id": "Km_U-5YQ0G7V",
        "colab_type": "code",
        "colab": {
          "base_uri": "https://localhost:8080/",
          "height": 455
        },
        "outputId": "4cd3aac6-f62f-4ee1-86db-d9fd8983c978"
      },
      "source": [
        "new_data"
      ],
      "execution_count": 58,
      "outputs": [
        {
          "output_type": "execute_result",
          "data": {
            "text/html": [
              "<div>\n",
              "<style scoped>\n",
              "    .dataframe tbody tr th:only-of-type {\n",
              "        vertical-align: middle;\n",
              "    }\n",
              "\n",
              "    .dataframe tbody tr th {\n",
              "        vertical-align: top;\n",
              "    }\n",
              "\n",
              "    .dataframe thead th {\n",
              "        text-align: right;\n",
              "    }\n",
              "</style>\n",
              "<table border=\"1\" class=\"dataframe\">\n",
              "  <thead>\n",
              "    <tr style=\"text-align: right;\">\n",
              "      <th></th>\n",
              "      <th>Open</th>\n",
              "      <th>Close</th>\n",
              "    </tr>\n",
              "    <tr>\n",
              "      <th>Date</th>\n",
              "      <th></th>\n",
              "      <th></th>\n",
              "    </tr>\n",
              "  </thead>\n",
              "  <tbody>\n",
              "    <tr>\n",
              "      <th>2019-01-04</th>\n",
              "      <td>142.05</td>\n",
              "      <td>145.7</td>\n",
              "    </tr>\n",
              "    <tr>\n",
              "      <th>2019-01-03</th>\n",
              "      <td>145</td>\n",
              "      <td>142.4</td>\n",
              "    </tr>\n",
              "    <tr>\n",
              "      <th>2019-01-02</th>\n",
              "      <td>148</td>\n",
              "      <td>147.05</td>\n",
              "    </tr>\n",
              "    <tr>\n",
              "      <th>2019-01-01</th>\n",
              "      <td>150</td>\n",
              "      <td>148.5</td>\n",
              "    </tr>\n",
              "    <tr>\n",
              "      <th>2018-12-31</th>\n",
              "      <td>150.15</td>\n",
              "      <td>149.9</td>\n",
              "    </tr>\n",
              "    <tr>\n",
              "      <th>...</th>\n",
              "      <td>...</td>\n",
              "      <td>...</td>\n",
              "    </tr>\n",
              "    <tr>\n",
              "      <th>1998-03-30</th>\n",
              "      <td>277</td>\n",
              "      <td>266.45</td>\n",
              "    </tr>\n",
              "    <tr>\n",
              "      <th>1998-03-27</th>\n",
              "      <td>268.95</td>\n",
              "      <td>274.7</td>\n",
              "    </tr>\n",
              "    <tr>\n",
              "      <th>1998-03-26</th>\n",
              "      <td>290</td>\n",
              "      <td>272.65</td>\n",
              "    </tr>\n",
              "    <tr>\n",
              "      <th>1998-03-25</th>\n",
              "      <td>255</td>\n",
              "      <td>275.25</td>\n",
              "    </tr>\n",
              "    <tr>\n",
              "      <th>1998-03-24</th>\n",
              "      <td>247.95</td>\n",
              "      <td>250.2</td>\n",
              "    </tr>\n",
              "  </tbody>\n",
              "</table>\n",
              "<p>5181 rows × 2 columns</p>\n",
              "</div>"
            ],
            "text/plain": [
              "              Open   Close\n",
              "Date                      \n",
              "2019-01-04  142.05   145.7\n",
              "2019-01-03     145   142.4\n",
              "2019-01-02     148  147.05\n",
              "2019-01-01     150   148.5\n",
              "2018-12-31  150.15   149.9\n",
              "...            ...     ...\n",
              "1998-03-30     277  266.45\n",
              "1998-03-27  268.95   274.7\n",
              "1998-03-26     290  272.65\n",
              "1998-03-25     255  275.25\n",
              "1998-03-24  247.95   250.2\n",
              "\n",
              "[5181 rows x 2 columns]"
            ]
          },
          "metadata": {
            "tags": []
          },
          "execution_count": 58
        }
      ]
    },
    {
      "cell_type": "code",
      "metadata": {
        "id": "9NUZx9rTg1Wl",
        "colab_type": "code",
        "colab": {}
      },
      "source": [
        "train = new_data.iloc[:4181]"
      ],
      "execution_count": 59,
      "outputs": []
    },
    {
      "cell_type": "code",
      "metadata": {
        "id": "ybEFRg3jidQe",
        "colab_type": "code",
        "colab": {
          "base_uri": "https://localhost:8080/",
          "height": 455
        },
        "outputId": "9b223d3a-f5f6-4700-8001-21405e693362"
      },
      "source": [
        "train"
      ],
      "execution_count": 60,
      "outputs": [
        {
          "output_type": "execute_result",
          "data": {
            "text/html": [
              "<div>\n",
              "<style scoped>\n",
              "    .dataframe tbody tr th:only-of-type {\n",
              "        vertical-align: middle;\n",
              "    }\n",
              "\n",
              "    .dataframe tbody tr th {\n",
              "        vertical-align: top;\n",
              "    }\n",
              "\n",
              "    .dataframe thead th {\n",
              "        text-align: right;\n",
              "    }\n",
              "</style>\n",
              "<table border=\"1\" class=\"dataframe\">\n",
              "  <thead>\n",
              "    <tr style=\"text-align: right;\">\n",
              "      <th></th>\n",
              "      <th>Open</th>\n",
              "      <th>Close</th>\n",
              "    </tr>\n",
              "    <tr>\n",
              "      <th>Date</th>\n",
              "      <th></th>\n",
              "      <th></th>\n",
              "    </tr>\n",
              "  </thead>\n",
              "  <tbody>\n",
              "    <tr>\n",
              "      <th>2019-01-04</th>\n",
              "      <td>142.05</td>\n",
              "      <td>145.7</td>\n",
              "    </tr>\n",
              "    <tr>\n",
              "      <th>2019-01-03</th>\n",
              "      <td>145</td>\n",
              "      <td>142.4</td>\n",
              "    </tr>\n",
              "    <tr>\n",
              "      <th>2019-01-02</th>\n",
              "      <td>148</td>\n",
              "      <td>147.05</td>\n",
              "    </tr>\n",
              "    <tr>\n",
              "      <th>2019-01-01</th>\n",
              "      <td>150</td>\n",
              "      <td>148.5</td>\n",
              "    </tr>\n",
              "    <tr>\n",
              "      <th>2018-12-31</th>\n",
              "      <td>150.15</td>\n",
              "      <td>149.9</td>\n",
              "    </tr>\n",
              "    <tr>\n",
              "      <th>...</th>\n",
              "      <td>...</td>\n",
              "      <td>...</td>\n",
              "    </tr>\n",
              "    <tr>\n",
              "      <th>2002-03-22</th>\n",
              "      <td>252</td>\n",
              "      <td>257.45</td>\n",
              "    </tr>\n",
              "    <tr>\n",
              "      <th>2002-03-21</th>\n",
              "      <td>250</td>\n",
              "      <td>249.75</td>\n",
              "    </tr>\n",
              "    <tr>\n",
              "      <th>2002-03-20</th>\n",
              "      <td>253.75</td>\n",
              "      <td>247.9</td>\n",
              "    </tr>\n",
              "    <tr>\n",
              "      <th>2002-03-19</th>\n",
              "      <td>263.65</td>\n",
              "      <td>249.6</td>\n",
              "    </tr>\n",
              "    <tr>\n",
              "      <th>2002-03-18</th>\n",
              "      <td>254.45</td>\n",
              "      <td>256.85</td>\n",
              "    </tr>\n",
              "  </tbody>\n",
              "</table>\n",
              "<p>4181 rows × 2 columns</p>\n",
              "</div>"
            ],
            "text/plain": [
              "              Open   Close\n",
              "Date                      \n",
              "2019-01-04  142.05   145.7\n",
              "2019-01-03     145   142.4\n",
              "2019-01-02     148  147.05\n",
              "2019-01-01     150   148.5\n",
              "2018-12-31  150.15   149.9\n",
              "...            ...     ...\n",
              "2002-03-22     252  257.45\n",
              "2002-03-21     250  249.75\n",
              "2002-03-20  253.75   247.9\n",
              "2002-03-19  263.65   249.6\n",
              "2002-03-18  254.45  256.85\n",
              "\n",
              "[4181 rows x 2 columns]"
            ]
          },
          "metadata": {
            "tags": []
          },
          "execution_count": 60
        }
      ]
    },
    {
      "cell_type": "code",
      "metadata": {
        "id": "fSS3UjL7igk8",
        "colab_type": "code",
        "colab": {}
      },
      "source": [
        "test = new_data.iloc[4181:]"
      ],
      "execution_count": 61,
      "outputs": []
    },
    {
      "cell_type": "code",
      "metadata": {
        "id": "Sac2Cb-QiqpV",
        "colab_type": "code",
        "colab": {
          "base_uri": "https://localhost:8080/",
          "height": 455
        },
        "outputId": "64eb5d7c-40bc-4219-b569-72519c119a9c"
      },
      "source": [
        "test"
      ],
      "execution_count": 62,
      "outputs": [
        {
          "output_type": "execute_result",
          "data": {
            "text/html": [
              "<div>\n",
              "<style scoped>\n",
              "    .dataframe tbody tr th:only-of-type {\n",
              "        vertical-align: middle;\n",
              "    }\n",
              "\n",
              "    .dataframe tbody tr th {\n",
              "        vertical-align: top;\n",
              "    }\n",
              "\n",
              "    .dataframe thead th {\n",
              "        text-align: right;\n",
              "    }\n",
              "</style>\n",
              "<table border=\"1\" class=\"dataframe\">\n",
              "  <thead>\n",
              "    <tr style=\"text-align: right;\">\n",
              "      <th></th>\n",
              "      <th>Open</th>\n",
              "      <th>Close</th>\n",
              "    </tr>\n",
              "    <tr>\n",
              "      <th>Date</th>\n",
              "      <th></th>\n",
              "      <th></th>\n",
              "    </tr>\n",
              "  </thead>\n",
              "  <tbody>\n",
              "    <tr>\n",
              "      <th>2002-03-15</th>\n",
              "      <td>242</td>\n",
              "      <td>248.85</td>\n",
              "    </tr>\n",
              "    <tr>\n",
              "      <th>2002-03-14</th>\n",
              "      <td>240</td>\n",
              "      <td>240.7</td>\n",
              "    </tr>\n",
              "    <tr>\n",
              "      <th>2002-03-13</th>\n",
              "      <td>232</td>\n",
              "      <td>239.8</td>\n",
              "    </tr>\n",
              "    <tr>\n",
              "      <th>2002-03-12</th>\n",
              "      <td>242.8</td>\n",
              "      <td>235.55</td>\n",
              "    </tr>\n",
              "    <tr>\n",
              "      <th>2002-03-11</th>\n",
              "      <td>247.7</td>\n",
              "      <td>241.9</td>\n",
              "    </tr>\n",
              "    <tr>\n",
              "      <th>...</th>\n",
              "      <td>...</td>\n",
              "      <td>...</td>\n",
              "    </tr>\n",
              "    <tr>\n",
              "      <th>1998-03-30</th>\n",
              "      <td>277</td>\n",
              "      <td>266.45</td>\n",
              "    </tr>\n",
              "    <tr>\n",
              "      <th>1998-03-27</th>\n",
              "      <td>268.95</td>\n",
              "      <td>274.7</td>\n",
              "    </tr>\n",
              "    <tr>\n",
              "      <th>1998-03-26</th>\n",
              "      <td>290</td>\n",
              "      <td>272.65</td>\n",
              "    </tr>\n",
              "    <tr>\n",
              "      <th>1998-03-25</th>\n",
              "      <td>255</td>\n",
              "      <td>275.25</td>\n",
              "    </tr>\n",
              "    <tr>\n",
              "      <th>1998-03-24</th>\n",
              "      <td>247.95</td>\n",
              "      <td>250.2</td>\n",
              "    </tr>\n",
              "  </tbody>\n",
              "</table>\n",
              "<p>1000 rows × 2 columns</p>\n",
              "</div>"
            ],
            "text/plain": [
              "              Open   Close\n",
              "Date                      \n",
              "2002-03-15     242  248.85\n",
              "2002-03-14     240   240.7\n",
              "2002-03-13     232   239.8\n",
              "2002-03-12   242.8  235.55\n",
              "2002-03-11   247.7   241.9\n",
              "...            ...     ...\n",
              "1998-03-30     277  266.45\n",
              "1998-03-27  268.95   274.7\n",
              "1998-03-26     290  272.65\n",
              "1998-03-25     255  275.25\n",
              "1998-03-24  247.95   250.2\n",
              "\n",
              "[1000 rows x 2 columns]"
            ]
          },
          "metadata": {
            "tags": []
          },
          "execution_count": 62
        }
      ]
    },
    {
      "cell_type": "code",
      "metadata": {
        "id": "2y4bPh7OirmQ",
        "colab_type": "code",
        "colab": {}
      },
      "source": [
        "X_train,Y_train = train.drop(\"Close\",axis=1),train[\"Close\"]"
      ],
      "execution_count": 63,
      "outputs": []
    },
    {
      "cell_type": "code",
      "metadata": {
        "id": "A6Wn5w24blVS",
        "colab_type": "code",
        "colab": {
          "base_uri": "https://localhost:8080/",
          "height": 455
        },
        "outputId": "d95dede5-9b0b-470f-cd9a-dd35e53c9942"
      },
      "source": [
        "X_train"
      ],
      "execution_count": 64,
      "outputs": [
        {
          "output_type": "execute_result",
          "data": {
            "text/html": [
              "<div>\n",
              "<style scoped>\n",
              "    .dataframe tbody tr th:only-of-type {\n",
              "        vertical-align: middle;\n",
              "    }\n",
              "\n",
              "    .dataframe tbody tr th {\n",
              "        vertical-align: top;\n",
              "    }\n",
              "\n",
              "    .dataframe thead th {\n",
              "        text-align: right;\n",
              "    }\n",
              "</style>\n",
              "<table border=\"1\" class=\"dataframe\">\n",
              "  <thead>\n",
              "    <tr style=\"text-align: right;\">\n",
              "      <th></th>\n",
              "      <th>Open</th>\n",
              "    </tr>\n",
              "    <tr>\n",
              "      <th>Date</th>\n",
              "      <th></th>\n",
              "    </tr>\n",
              "  </thead>\n",
              "  <tbody>\n",
              "    <tr>\n",
              "      <th>2019-01-04</th>\n",
              "      <td>142.05</td>\n",
              "    </tr>\n",
              "    <tr>\n",
              "      <th>2019-01-03</th>\n",
              "      <td>145</td>\n",
              "    </tr>\n",
              "    <tr>\n",
              "      <th>2019-01-02</th>\n",
              "      <td>148</td>\n",
              "    </tr>\n",
              "    <tr>\n",
              "      <th>2019-01-01</th>\n",
              "      <td>150</td>\n",
              "    </tr>\n",
              "    <tr>\n",
              "      <th>2018-12-31</th>\n",
              "      <td>150.15</td>\n",
              "    </tr>\n",
              "    <tr>\n",
              "      <th>...</th>\n",
              "      <td>...</td>\n",
              "    </tr>\n",
              "    <tr>\n",
              "      <th>2002-03-22</th>\n",
              "      <td>252</td>\n",
              "    </tr>\n",
              "    <tr>\n",
              "      <th>2002-03-21</th>\n",
              "      <td>250</td>\n",
              "    </tr>\n",
              "    <tr>\n",
              "      <th>2002-03-20</th>\n",
              "      <td>253.75</td>\n",
              "    </tr>\n",
              "    <tr>\n",
              "      <th>2002-03-19</th>\n",
              "      <td>263.65</td>\n",
              "    </tr>\n",
              "    <tr>\n",
              "      <th>2002-03-18</th>\n",
              "      <td>254.45</td>\n",
              "    </tr>\n",
              "  </tbody>\n",
              "</table>\n",
              "<p>4181 rows × 1 columns</p>\n",
              "</div>"
            ],
            "text/plain": [
              "              Open\n",
              "Date              \n",
              "2019-01-04  142.05\n",
              "2019-01-03     145\n",
              "2019-01-02     148\n",
              "2019-01-01     150\n",
              "2018-12-31  150.15\n",
              "...            ...\n",
              "2002-03-22     252\n",
              "2002-03-21     250\n",
              "2002-03-20  253.75\n",
              "2002-03-19  263.65\n",
              "2002-03-18  254.45\n",
              "\n",
              "[4181 rows x 1 columns]"
            ]
          },
          "metadata": {
            "tags": []
          },
          "execution_count": 64
        }
      ]
    },
    {
      "cell_type": "code",
      "metadata": {
        "id": "WuUdyHvXkZyt",
        "colab_type": "code",
        "colab": {}
      },
      "source": [
        "X_test,Y_test = test.drop(\"Close\",axis=1),test[\"Close\"]"
      ],
      "execution_count": 65,
      "outputs": []
    },
    {
      "cell_type": "code",
      "metadata": {
        "id": "DS0fp5E4bskF",
        "colab_type": "code",
        "colab": {
          "base_uri": "https://localhost:8080/",
          "height": 455
        },
        "outputId": "0c2907ca-ef04-4f26-93e2-4f253c7c7fd2"
      },
      "source": [
        "X_test"
      ],
      "execution_count": 66,
      "outputs": [
        {
          "output_type": "execute_result",
          "data": {
            "text/html": [
              "<div>\n",
              "<style scoped>\n",
              "    .dataframe tbody tr th:only-of-type {\n",
              "        vertical-align: middle;\n",
              "    }\n",
              "\n",
              "    .dataframe tbody tr th {\n",
              "        vertical-align: top;\n",
              "    }\n",
              "\n",
              "    .dataframe thead th {\n",
              "        text-align: right;\n",
              "    }\n",
              "</style>\n",
              "<table border=\"1\" class=\"dataframe\">\n",
              "  <thead>\n",
              "    <tr style=\"text-align: right;\">\n",
              "      <th></th>\n",
              "      <th>Open</th>\n",
              "    </tr>\n",
              "    <tr>\n",
              "      <th>Date</th>\n",
              "      <th></th>\n",
              "    </tr>\n",
              "  </thead>\n",
              "  <tbody>\n",
              "    <tr>\n",
              "      <th>2002-03-15</th>\n",
              "      <td>242</td>\n",
              "    </tr>\n",
              "    <tr>\n",
              "      <th>2002-03-14</th>\n",
              "      <td>240</td>\n",
              "    </tr>\n",
              "    <tr>\n",
              "      <th>2002-03-13</th>\n",
              "      <td>232</td>\n",
              "    </tr>\n",
              "    <tr>\n",
              "      <th>2002-03-12</th>\n",
              "      <td>242.8</td>\n",
              "    </tr>\n",
              "    <tr>\n",
              "      <th>2002-03-11</th>\n",
              "      <td>247.7</td>\n",
              "    </tr>\n",
              "    <tr>\n",
              "      <th>...</th>\n",
              "      <td>...</td>\n",
              "    </tr>\n",
              "    <tr>\n",
              "      <th>1998-03-30</th>\n",
              "      <td>277</td>\n",
              "    </tr>\n",
              "    <tr>\n",
              "      <th>1998-03-27</th>\n",
              "      <td>268.95</td>\n",
              "    </tr>\n",
              "    <tr>\n",
              "      <th>1998-03-26</th>\n",
              "      <td>290</td>\n",
              "    </tr>\n",
              "    <tr>\n",
              "      <th>1998-03-25</th>\n",
              "      <td>255</td>\n",
              "    </tr>\n",
              "    <tr>\n",
              "      <th>1998-03-24</th>\n",
              "      <td>247.95</td>\n",
              "    </tr>\n",
              "  </tbody>\n",
              "</table>\n",
              "<p>1000 rows × 1 columns</p>\n",
              "</div>"
            ],
            "text/plain": [
              "              Open\n",
              "Date              \n",
              "2002-03-15     242\n",
              "2002-03-14     240\n",
              "2002-03-13     232\n",
              "2002-03-12   242.8\n",
              "2002-03-11   247.7\n",
              "...            ...\n",
              "1998-03-30     277\n",
              "1998-03-27  268.95\n",
              "1998-03-26     290\n",
              "1998-03-25     255\n",
              "1998-03-24  247.95\n",
              "\n",
              "[1000 rows x 1 columns]"
            ]
          },
          "metadata": {
            "tags": []
          },
          "execution_count": 66
        }
      ]
    },
    {
      "cell_type": "code",
      "metadata": {
        "id": "lvlbnY6mb6Ie",
        "colab_type": "code",
        "colab": {}
      },
      "source": [
        "Y_train = np.array(Y_train).reshape(-1,1)\n",
        "Y_test = np.array(Y_test).reshape(-1,1)"
      ],
      "execution_count": 67,
      "outputs": []
    },
    {
      "cell_type": "code",
      "metadata": {
        "id": "1PR6oxeakbjk",
        "colab_type": "code",
        "colab": {}
      },
      "source": [
        "scaler = MinMaxScaler(feature_range=(0,1))\n",
        "X_train = scaler.fit_transform(X_train)\n",
        "X_test  = scaler.transform(X_test)"
      ],
      "execution_count": 68,
      "outputs": []
    },
    {
      "cell_type": "code",
      "metadata": {
        "id": "IXtyiLdRkjK3",
        "colab_type": "code",
        "colab": {}
      },
      "source": [
        "sc = MinMaxScaler(feature_range=(0,1))\n",
        "Y_train = sc.fit_transform(Y_train)\n",
        "Y_test  = sc.transform(Y_test)"
      ],
      "execution_count": 69,
      "outputs": []
    },
    {
      "cell_type": "code",
      "metadata": {
        "id": "EWiE67rEksuN",
        "colab_type": "code",
        "colab": {}
      },
      "source": [
        "X_train = np.reshape(X_train, (X_train.shape[0],1,X_train.shape[1]))\n",
        "X_test = np.reshape(X_test, (X_test.shape[0],1,X_test.shape[1]))"
      ],
      "execution_count": 70,
      "outputs": []
    },
    {
      "cell_type": "code",
      "metadata": {
        "id": "jJNp7emdlw19",
        "colab_type": "code",
        "colab": {}
      },
      "source": [
        "model = Sequential()\n",
        "model.add(LSTM(units = 50, return_sequences = True, input_shape = (X_train.shape[1], 1)))\n",
        "model.add(Dropout(0.2))\n",
        "model.add(LSTM(units = 50, return_sequences = True))\n",
        "model.add(Dropout(0.2))\n",
        "model.add(LSTM(units = 50, return_sequences = True))\n",
        "model.add(Dropout(0.2))\n",
        "model.add(LSTM(units = 50))\n",
        "model.add(Dropout(0.2))\n",
        "model.add(Dense(units = 1))"
      ],
      "execution_count": 71,
      "outputs": []
    },
    {
      "cell_type": "code",
      "metadata": {
        "id": "JwkK8bYDmCD5",
        "colab_type": "code",
        "colab": {
          "base_uri": "https://localhost:8080/",
          "height": 1000
        },
        "outputId": "adce0de6-3c47-428d-cc37-8c0be52e387b"
      },
      "source": [
        "model.compile(loss='mean_squared_error', optimizer='adam')\n",
        "model.fit(X_train, Y_train, epochs=50, batch_size=60)"
      ],
      "execution_count": 106,
      "outputs": [
        {
          "output_type": "stream",
          "text": [
            "Epoch 1/50\n",
            "70/70 [==============================] - 0s 7ms/step - loss: 0.0014\n",
            "Epoch 2/50\n",
            "70/70 [==============================] - 1s 7ms/step - loss: 0.0014\n",
            "Epoch 3/50\n",
            "70/70 [==============================] - 0s 7ms/step - loss: 0.0015\n",
            "Epoch 4/50\n",
            "70/70 [==============================] - 0s 7ms/step - loss: 0.0014\n",
            "Epoch 5/50\n",
            "70/70 [==============================] - 0s 7ms/step - loss: 0.0014\n",
            "Epoch 6/50\n",
            "70/70 [==============================] - 0s 7ms/step - loss: 0.0014\n",
            "Epoch 7/50\n",
            "70/70 [==============================] - 0s 7ms/step - loss: 0.0013\n",
            "Epoch 8/50\n",
            "70/70 [==============================] - 0s 7ms/step - loss: 0.0015\n",
            "Epoch 9/50\n",
            "70/70 [==============================] - 0s 7ms/step - loss: 0.0014\n",
            "Epoch 10/50\n",
            "70/70 [==============================] - 0s 7ms/step - loss: 0.0014\n",
            "Epoch 11/50\n",
            "70/70 [==============================] - 0s 7ms/step - loss: 0.0014\n",
            "Epoch 12/50\n",
            "70/70 [==============================] - 0s 7ms/step - loss: 0.0015\n",
            "Epoch 13/50\n",
            "70/70 [==============================] - 0s 7ms/step - loss: 0.0014\n",
            "Epoch 14/50\n",
            "70/70 [==============================] - 0s 7ms/step - loss: 0.0013\n",
            "Epoch 15/50\n",
            "70/70 [==============================] - 0s 7ms/step - loss: 0.0014\n",
            "Epoch 16/50\n",
            "70/70 [==============================] - 0s 7ms/step - loss: 0.0014\n",
            "Epoch 17/50\n",
            "70/70 [==============================] - 0s 7ms/step - loss: 0.0014\n",
            "Epoch 18/50\n",
            "70/70 [==============================] - 0s 7ms/step - loss: 0.0014\n",
            "Epoch 19/50\n",
            "70/70 [==============================] - 0s 7ms/step - loss: 0.0013\n",
            "Epoch 20/50\n",
            "70/70 [==============================] - 0s 7ms/step - loss: 0.0013\n",
            "Epoch 21/50\n",
            "70/70 [==============================] - 0s 7ms/step - loss: 0.0013\n",
            "Epoch 22/50\n",
            "70/70 [==============================] - 0s 7ms/step - loss: 0.0013\n",
            "Epoch 23/50\n",
            "70/70 [==============================] - 0s 7ms/step - loss: 0.0014\n",
            "Epoch 24/50\n",
            "70/70 [==============================] - 0s 7ms/step - loss: 0.0013\n",
            "Epoch 25/50\n",
            "70/70 [==============================] - 0s 7ms/step - loss: 0.0014\n",
            "Epoch 26/50\n",
            "70/70 [==============================] - 0s 7ms/step - loss: 0.0013\n",
            "Epoch 27/50\n",
            "70/70 [==============================] - 0s 7ms/step - loss: 0.0013\n",
            "Epoch 28/50\n",
            "70/70 [==============================] - 0s 7ms/step - loss: 0.0012\n",
            "Epoch 29/50\n",
            "70/70 [==============================] - 1s 7ms/step - loss: 0.0014\n",
            "Epoch 30/50\n",
            "70/70 [==============================] - 0s 7ms/step - loss: 0.0013\n",
            "Epoch 31/50\n",
            "70/70 [==============================] - 0s 7ms/step - loss: 0.0013\n",
            "Epoch 32/50\n",
            "70/70 [==============================] - 0s 7ms/step - loss: 0.0013\n",
            "Epoch 33/50\n",
            "70/70 [==============================] - 0s 7ms/step - loss: 0.0013\n",
            "Epoch 34/50\n",
            "70/70 [==============================] - 0s 7ms/step - loss: 0.0014\n",
            "Epoch 35/50\n",
            "70/70 [==============================] - 0s 7ms/step - loss: 0.0013\n",
            "Epoch 36/50\n",
            "70/70 [==============================] - 0s 7ms/step - loss: 0.0013\n",
            "Epoch 37/50\n",
            "70/70 [==============================] - 0s 7ms/step - loss: 0.0012\n",
            "Epoch 38/50\n",
            "70/70 [==============================] - 0s 7ms/step - loss: 0.0012\n",
            "Epoch 39/50\n",
            "70/70 [==============================] - 0s 7ms/step - loss: 0.0012\n",
            "Epoch 40/50\n",
            "70/70 [==============================] - 0s 7ms/step - loss: 0.0013\n",
            "Epoch 41/50\n",
            "70/70 [==============================] - 0s 7ms/step - loss: 0.0013\n",
            "Epoch 42/50\n",
            "70/70 [==============================] - 0s 7ms/step - loss: 0.0013\n",
            "Epoch 43/50\n",
            "70/70 [==============================] - 0s 7ms/step - loss: 0.0012\n",
            "Epoch 44/50\n",
            "70/70 [==============================] - 0s 7ms/step - loss: 0.0012\n",
            "Epoch 45/50\n",
            "70/70 [==============================] - 0s 7ms/step - loss: 0.0013\n",
            "Epoch 46/50\n",
            "70/70 [==============================] - 0s 7ms/step - loss: 0.0012\n",
            "Epoch 47/50\n",
            "70/70 [==============================] - 0s 7ms/step - loss: 0.0012\n",
            "Epoch 48/50\n",
            "70/70 [==============================] - 0s 7ms/step - loss: 0.0013\n",
            "Epoch 49/50\n",
            "70/70 [==============================] - 0s 7ms/step - loss: 0.0013\n",
            "Epoch 50/50\n",
            "70/70 [==============================] - 0s 7ms/step - loss: 0.0013\n"
          ],
          "name": "stdout"
        },
        {
          "output_type": "execute_result",
          "data": {
            "text/plain": [
              "<tensorflow.python.keras.callbacks.History at 0x7f61cb365b00>"
            ]
          },
          "metadata": {
            "tags": []
          },
          "execution_count": 106
        }
      ]
    },
    {
      "cell_type": "code",
      "metadata": {
        "id": "FJrfzwYHf-1e",
        "colab_type": "code",
        "colab": {
          "base_uri": "https://localhost:8080/",
          "height": 53
        },
        "outputId": "eefe18e1-0e27-46dd-bf82-d9c3463e3b26"
      },
      "source": [
        "model.evaluate(X_test,Y_test)"
      ],
      "execution_count": 107,
      "outputs": [
        {
          "output_type": "stream",
          "text": [
            "32/32 [==============================] - 0s 3ms/step - loss: 4.8835e-05\n"
          ],
          "name": "stdout"
        },
        {
          "output_type": "execute_result",
          "data": {
            "text/plain": [
              "4.8835190682439134e-05"
            ]
          },
          "metadata": {
            "tags": []
          },
          "execution_count": 107
        }
      ]
    },
    {
      "cell_type": "code",
      "metadata": {
        "id": "HlNlD1mWLyqe",
        "colab_type": "code",
        "colab": {}
      },
      "source": [
        "from sklearn.metrics import r2_score"
      ],
      "execution_count": 108,
      "outputs": []
    },
    {
      "cell_type": "code",
      "metadata": {
        "id": "xgIUX23KnvQn",
        "colab_type": "code",
        "colab": {
          "base_uri": "https://localhost:8080/",
          "height": 35
        },
        "outputId": "cedc613c-d08f-44fd-8d2e-0d9a692ad332"
      },
      "source": [
        "r2_score(Y_test,model.predict(X_test))"
      ],
      "execution_count": 117,
      "outputs": [
        {
          "output_type": "execute_result",
          "data": {
            "text/plain": [
              "0.9561190367923987"
            ]
          },
          "metadata": {
            "tags": []
          },
          "execution_count": 117
        }
      ]
    },
    {
      "cell_type": "code",
      "metadata": {
        "id": "nktJ_ut6T9Kc",
        "colab_type": "code",
        "colab": {}
      },
      "source": [
        "Y = sc.inverse_transform(Y_test)"
      ],
      "execution_count": 118,
      "outputs": []
    },
    {
      "cell_type": "code",
      "metadata": {
        "id": "LrLWeT8hT_-H",
        "colab_type": "code",
        "colab": {}
      },
      "source": [
        "X = sc.inverse_transform(model.predict(X_test))"
      ],
      "execution_count": 119,
      "outputs": []
    },
    {
      "cell_type": "code",
      "metadata": {
        "id": "zUdXd339LsT1",
        "colab_type": "code",
        "colab": {}
      },
      "source": [
        "rms=np.sqrt(np.mean(np.power((Y - X),2)))"
      ],
      "execution_count": 120,
      "outputs": []
    },
    {
      "cell_type": "code",
      "metadata": {
        "id": "lFTwl50_Le4U",
        "colab_type": "code",
        "colab": {
          "base_uri": "https://localhost:8080/",
          "height": 35
        },
        "outputId": "ec8fe595-8c6d-4c1c-dfba-6ee6274e26a8"
      },
      "source": [
        "rms"
      ],
      "execution_count": 121,
      "outputs": [
        {
          "output_type": "execute_result",
          "data": {
            "text/plain": [
              "9.41382508616143"
            ]
          },
          "metadata": {
            "tags": []
          },
          "execution_count": 121
        }
      ]
    },
    {
      "cell_type": "code",
      "metadata": {
        "id": "oKYbyT1FlGMP",
        "colab_type": "code",
        "colab": {}
      },
      "source": [
        "import matplotlib.pyplot as plt"
      ],
      "execution_count": 118,
      "outputs": []
    },
    {
      "cell_type": "code",
      "metadata": {
        "id": "AkxkeI4mruPM",
        "colab_type": "code",
        "colab": {
          "base_uri": "https://localhost:8080/",
          "height": 478
        },
        "outputId": "b5548745-4333-4948-c606-5c46ae8b2fef"
      },
      "source": [
        "plt.figure(figsize=(25,10))\n",
        "plt.plot(Date.iloc[:len(train)],train[\"Close\"])\n",
        "plt.plot(Date.iloc[len(train):], sc.inverse_transform(model.predict(X_test)))\n",
        "plt.plot(Date.iloc[len(train):],sc.inverse_transform(Y_test))"
      ],
      "execution_count": 116,
      "outputs": [
        {
          "output_type": "execute_result",
          "data": {
            "text/plain": [
              "[<matplotlib.lines.Line2D at 0x7f61c8197ac8>]"
            ]
          },
          "metadata": {
            "tags": []
          },
          "execution_count": 116
        },
        {
          "output_type": "display_data",
          "data": {
            "image/png": "[encoded data removed]",
            "text/plain": [
              "<Figure size 1800x720 with 1 Axes>"
            ]
          },
          "metadata": {
            "tags": [],
            "needs_background": "light"
          }
        }
      ]
    },
    {
      "cell_type": "code",
      "metadata": {
        "id": "TyDFpr-3k6Ix",
        "colab_type": "code",
        "colab": {}
      },
      "source": [
        ""
      ],
      "execution_count": null,
      "outputs": []
    },
    {
      "cell_type": "code",
      "metadata": {
        "id": "jS7qdPs5kolP",
        "colab_type": "code",
        "colab": {}
      },
      "source": [
        ""
      ],
      "execution_count": null,
      "outputs": []
    },
    {
      "cell_type": "code",
      "metadata": {
        "id": "aMJTM7HFkkkN",
        "colab_type": "code",
        "colab": {}
      },
      "source": [
        ""
      ],
      "execution_count": null,
      "outputs": []
    }
  ]
}